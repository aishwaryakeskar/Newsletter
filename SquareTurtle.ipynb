{
 "cells": [
  {
   "cell_type": "code",
   "execution_count": 2,
   "metadata": {},
   "outputs": [],
   "source": [
    "import turtle"
   ]
  },
  {
   "cell_type": "code",
   "execution_count": 5,
   "metadata": {},
   "outputs": [],
   "source": [
    "def draw_square():\n",
    "    \n",
    "    window = turtle.Screen()\n",
    "    window.bgcolor(\"blue\")\n",
    "    brad = turtle.Turtle()\n",
    "    brad.forward(100)\n",
    "    brad.right(90)\n",
    "    brad.forward(100)\n",
    "    brad.right(90)\n",
    "    brad.forward(100)\n",
    "    brad.right(90)\n",
    "    brad.forward(100)\n",
    "    brad.right(90)\n",
    "    window.exitonclick()\n",
    "    \n",
    "draw_square()"
   ]
  },
  {
   "cell_type": "code",
   "execution_count": null,
   "metadata": {},
   "outputs": [],
   "source": []
  }
 ],
 "metadata": {
  "kernelspec": {
   "display_name": "Python 3",
   "language": "python",
   "name": "python3"
  },
  "language_info": {
   "codemirror_mode": {
    "name": "ipython",
    "version": 3
   },
   "file_extension": ".py",
   "mimetype": "text/x-python",
   "name": "python",
   "nbconvert_exporter": "python",
   "pygments_lexer": "ipython3",
   "version": "3.6.5"
  }
 },
 "nbformat": 4,
 "nbformat_minor": 2
}
